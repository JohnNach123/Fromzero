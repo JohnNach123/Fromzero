{
  "nbformat": 4,
  "nbformat_minor": 0,
  "metadata": {
    "kernelspec": {
      "display_name": "Python 3",
      "language": "python",
      "name": "python3"
    },
    "language_info": {
      "codemirror_mode": {
        "name": "ipython",
        "version": 3
      },
      "file_extension": ".py",
      "mimetype": "text/x-python",
      "name": "python",
      "nbconvert_exporter": "python",
      "pygments_lexer": "ipython3",
      "version": "3.7.4"
    },
    "colab": {
      "name": "pima.ipynb",
      "provenance": [],
      "include_colab_link": true
    }
  },
  "cells": [
    {
      "cell_type": "markdown",
      "metadata": {
        "id": "view-in-github",
        "colab_type": "text"
      },
      "source": [
        "<a href=\"https://colab.research.google.com/github/JohnNach123/Fromzero/blob/master/pima.ipynb\" target=\"_parent\"><img src=\"https://colab.research.google.com/assets/colab-badge.svg\" alt=\"Open In Colab\"/></a>"
      ]
    },
    {
      "cell_type": "code",
      "metadata": {
        "id": "lFUpstzVjXrp",
        "colab_type": "code",
        "colab": {}
      },
      "source": [
        "import pandas as pd\n",
        "import numpy as np"
      ],
      "execution_count": 0,
      "outputs": []
    },
    {
      "cell_type": "code",
      "metadata": {
        "scrolled": true,
        "id": "oO4I6aXxjXrx",
        "colab_type": "code",
        "colab": {},
        "outputId": "073b7411-f570-421f-8f3e-2b1708902ad9"
      },
      "source": [
        "df = pd.read_csv('diabetes.csv')\n",
        "df.head()"
      ],
      "execution_count": 0,
      "outputs": [
        {
          "output_type": "execute_result",
          "data": {
            "text/html": [
              "<div>\n",
              "<style scoped>\n",
              "    .dataframe tbody tr th:only-of-type {\n",
              "        vertical-align: middle;\n",
              "    }\n",
              "\n",
              "    .dataframe tbody tr th {\n",
              "        vertical-align: top;\n",
              "    }\n",
              "\n",
              "    .dataframe thead th {\n",
              "        text-align: right;\n",
              "    }\n",
              "</style>\n",
              "<table border=\"1\" class=\"dataframe\">\n",
              "  <thead>\n",
              "    <tr style=\"text-align: right;\">\n",
              "      <th></th>\n",
              "      <th>Pregnancies</th>\n",
              "      <th>Glucose</th>\n",
              "      <th>BloodPressure</th>\n",
              "      <th>SkinThickness</th>\n",
              "      <th>Insulin</th>\n",
              "      <th>BMI</th>\n",
              "      <th>DiabetesPedigreeFunction</th>\n",
              "      <th>Age</th>\n",
              "      <th>Outcome</th>\n",
              "    </tr>\n",
              "  </thead>\n",
              "  <tbody>\n",
              "    <tr>\n",
              "      <td>0</td>\n",
              "      <td>6</td>\n",
              "      <td>148</td>\n",
              "      <td>72</td>\n",
              "      <td>35</td>\n",
              "      <td>0</td>\n",
              "      <td>33.6</td>\n",
              "      <td>0.627</td>\n",
              "      <td>50</td>\n",
              "      <td>1</td>\n",
              "    </tr>\n",
              "    <tr>\n",
              "      <td>1</td>\n",
              "      <td>1</td>\n",
              "      <td>85</td>\n",
              "      <td>66</td>\n",
              "      <td>29</td>\n",
              "      <td>0</td>\n",
              "      <td>26.6</td>\n",
              "      <td>0.351</td>\n",
              "      <td>31</td>\n",
              "      <td>0</td>\n",
              "    </tr>\n",
              "    <tr>\n",
              "      <td>2</td>\n",
              "      <td>8</td>\n",
              "      <td>183</td>\n",
              "      <td>64</td>\n",
              "      <td>0</td>\n",
              "      <td>0</td>\n",
              "      <td>23.3</td>\n",
              "      <td>0.672</td>\n",
              "      <td>32</td>\n",
              "      <td>1</td>\n",
              "    </tr>\n",
              "    <tr>\n",
              "      <td>3</td>\n",
              "      <td>1</td>\n",
              "      <td>89</td>\n",
              "      <td>66</td>\n",
              "      <td>23</td>\n",
              "      <td>94</td>\n",
              "      <td>28.1</td>\n",
              "      <td>0.167</td>\n",
              "      <td>21</td>\n",
              "      <td>0</td>\n",
              "    </tr>\n",
              "    <tr>\n",
              "      <td>4</td>\n",
              "      <td>0</td>\n",
              "      <td>137</td>\n",
              "      <td>40</td>\n",
              "      <td>35</td>\n",
              "      <td>168</td>\n",
              "      <td>43.1</td>\n",
              "      <td>2.288</td>\n",
              "      <td>33</td>\n",
              "      <td>1</td>\n",
              "    </tr>\n",
              "  </tbody>\n",
              "</table>\n",
              "</div>"
            ],
            "text/plain": [
              "   Pregnancies  Glucose  BloodPressure  SkinThickness  Insulin   BMI  \\\n",
              "0            6      148             72             35        0  33.6   \n",
              "1            1       85             66             29        0  26.6   \n",
              "2            8      183             64              0        0  23.3   \n",
              "3            1       89             66             23       94  28.1   \n",
              "4            0      137             40             35      168  43.1   \n",
              "\n",
              "   DiabetesPedigreeFunction  Age  Outcome  \n",
              "0                     0.627   50        1  \n",
              "1                     0.351   31        0  \n",
              "2                     0.672   32        1  \n",
              "3                     0.167   21        0  \n",
              "4                     2.288   33        1  "
            ]
          },
          "metadata": {
            "tags": []
          },
          "execution_count": 9
        }
      ]
    },
    {
      "cell_type": "code",
      "metadata": {
        "id": "sD7eAFAljXr2",
        "colab_type": "code",
        "colab": {}
      },
      "source": [
        "columns = [\"Pregnancies\",\"Glucose\",\"BloodPressure\",\"SkinThickness\",\"Insulin\",\"BMI\",\"DiabetesPedigreeFunction\",\"Age\"]\n",
        "labels = df[\"Outcome\"].values\n",
        "features = df[list(columns)].values"
      ],
      "execution_count": 0,
      "outputs": []
    },
    {
      "cell_type": "code",
      "metadata": {
        "id": "_Ne7KCXAjXr6",
        "colab_type": "code",
        "colab": {},
        "outputId": "99a6fa6c-d2c7-408a-d89b-d367526311c9"
      },
      "source": [
        "columns\n"
      ],
      "execution_count": 0,
      "outputs": [
        {
          "output_type": "execute_result",
          "data": {
            "text/plain": [
              "['Pregnancies',\n",
              " 'Glucose',\n",
              " 'BloodPressure',\n",
              " 'SkinThickness',\n",
              " 'Insulin',\n",
              " 'BMI',\n",
              " 'DiabetesPedigreeFunction',\n",
              " 'Age']"
            ]
          },
          "metadata": {
            "tags": []
          },
          "execution_count": 13
        }
      ]
    },
    {
      "cell_type": "code",
      "metadata": {
        "id": "SEcOfkffjXsA",
        "colab_type": "code",
        "colab": {},
        "outputId": "24e57a38-5303-4238-f438-55f782970b18"
      },
      "source": [
        "labels\n"
      ],
      "execution_count": 0,
      "outputs": [
        {
          "output_type": "execute_result",
          "data": {
            "text/plain": [
              "array([1, 0, 1, 0, 1, 0, 1, 0, 1, 1, 0, 1, 0, 1, 1, 1, 1, 1, 0, 1, 0, 0,\n",
              "       1, 1, 1, 1, 1, 0, 0, 0, 0, 1, 0, 0, 0, 0, 0, 1, 1, 1, 0, 0, 0, 1,\n",
              "       0, 1, 0, 0, 1, 0, 0, 0, 0, 1, 0, 0, 1, 0, 0, 0, 0, 1, 0, 0, 1, 0,\n",
              "       1, 0, 0, 0, 1, 0, 1, 0, 0, 0, 0, 0, 1, 0, 0, 0, 0, 0, 1, 0, 0, 0,\n",
              "       1, 0, 0, 0, 0, 1, 0, 0, 0, 0, 0, 1, 1, 0, 0, 0, 0, 0, 0, 0, 0, 1,\n",
              "       1, 1, 0, 0, 1, 1, 1, 0, 0, 0, 1, 0, 0, 0, 1, 1, 0, 0, 1, 1, 1, 1,\n",
              "       1, 0, 0, 0, 0, 0, 0, 0, 0, 0, 0, 1, 0, 0, 0, 0, 0, 0, 0, 0, 1, 0,\n",
              "       1, 1, 0, 0, 0, 1, 0, 0, 0, 0, 1, 1, 0, 0, 0, 0, 1, 1, 0, 0, 0, 1,\n",
              "       0, 1, 0, 1, 0, 0, 0, 0, 0, 1, 1, 1, 1, 1, 0, 0, 1, 1, 0, 1, 0, 1,\n",
              "       1, 1, 0, 0, 0, 0, 0, 0, 1, 1, 0, 1, 0, 0, 0, 1, 1, 1, 1, 0, 1, 1,\n",
              "       1, 1, 0, 0, 0, 0, 0, 1, 0, 0, 1, 1, 0, 0, 0, 1, 1, 1, 1, 0, 0, 0,\n",
              "       1, 1, 0, 1, 0, 0, 0, 0, 0, 0, 0, 0, 1, 1, 0, 0, 0, 1, 0, 1, 0, 0,\n",
              "       1, 0, 1, 0, 0, 1, 1, 0, 0, 0, 0, 0, 1, 0, 0, 0, 1, 0, 0, 1, 1, 0,\n",
              "       0, 1, 0, 0, 0, 1, 1, 1, 0, 0, 1, 0, 1, 0, 1, 1, 0, 1, 0, 0, 1, 0,\n",
              "       1, 1, 0, 0, 1, 0, 1, 0, 0, 1, 0, 1, 0, 1, 1, 1, 0, 0, 1, 0, 1, 0,\n",
              "       0, 0, 1, 0, 0, 0, 0, 1, 1, 1, 0, 0, 0, 0, 0, 0, 0, 0, 0, 1, 0, 0,\n",
              "       0, 0, 0, 1, 1, 1, 0, 1, 1, 0, 0, 1, 0, 0, 1, 0, 0, 1, 1, 0, 0, 0,\n",
              "       0, 1, 0, 0, 1, 0, 0, 0, 0, 0, 0, 0, 1, 1, 1, 0, 0, 1, 0, 0, 1, 0,\n",
              "       0, 1, 0, 1, 1, 0, 1, 0, 1, 0, 1, 0, 1, 1, 0, 0, 0, 0, 1, 1, 0, 1,\n",
              "       0, 1, 0, 0, 0, 0, 1, 1, 0, 1, 0, 1, 0, 0, 0, 0, 0, 1, 0, 0, 0, 0,\n",
              "       1, 0, 0, 1, 1, 1, 0, 0, 1, 0, 0, 1, 0, 0, 0, 1, 0, 0, 1, 0, 0, 0,\n",
              "       0, 0, 0, 0, 0, 0, 1, 0, 0, 0, 0, 0, 0, 0, 1, 0, 0, 0, 1, 0, 0, 0,\n",
              "       1, 1, 0, 0, 0, 0, 0, 0, 0, 1, 0, 0, 0, 0, 1, 0, 0, 0, 1, 0, 0, 0,\n",
              "       1, 0, 0, 0, 1, 0, 0, 0, 0, 1, 1, 0, 0, 0, 0, 0, 0, 1, 0, 0, 0, 0,\n",
              "       0, 0, 0, 0, 0, 0, 0, 1, 0, 0, 0, 1, 1, 1, 1, 0, 0, 1, 1, 0, 0, 0,\n",
              "       0, 0, 0, 0, 0, 0, 0, 0, 0, 0, 1, 1, 0, 0, 0, 0, 0, 0, 0, 1, 0, 0,\n",
              "       0, 0, 0, 0, 0, 1, 0, 1, 1, 0, 0, 0, 1, 0, 1, 0, 1, 0, 1, 0, 1, 0,\n",
              "       0, 1, 0, 0, 1, 0, 0, 0, 0, 1, 1, 0, 1, 0, 0, 0, 0, 1, 1, 0, 1, 0,\n",
              "       0, 0, 1, 1, 0, 0, 0, 0, 0, 0, 0, 0, 0, 0, 1, 0, 0, 0, 0, 1, 0, 0,\n",
              "       1, 0, 0, 0, 1, 0, 0, 0, 1, 1, 1, 0, 0, 0, 0, 0, 0, 1, 0, 0, 0, 1,\n",
              "       0, 1, 1, 1, 1, 0, 1, 1, 0, 0, 0, 0, 0, 0, 0, 1, 1, 0, 1, 0, 0, 1,\n",
              "       0, 1, 0, 0, 0, 0, 0, 1, 0, 1, 0, 1, 0, 1, 1, 0, 0, 0, 0, 1, 1, 0,\n",
              "       0, 0, 1, 0, 1, 1, 0, 0, 1, 0, 0, 1, 1, 0, 0, 1, 0, 0, 1, 0, 0, 0,\n",
              "       0, 0, 0, 0, 1, 1, 1, 0, 0, 0, 0, 0, 0, 1, 1, 0, 0, 1, 0, 0, 1, 0,\n",
              "       1, 1, 1, 0, 0, 1, 1, 1, 0, 1, 0, 1, 0, 1, 0, 0, 0, 0, 1, 0],\n",
              "      dtype=int64)"
            ]
          },
          "metadata": {
            "tags": []
          },
          "execution_count": 14
        }
      ]
    },
    {
      "cell_type": "code",
      "metadata": {
        "id": "7pibW8DrjXsE",
        "colab_type": "code",
        "colab": {},
        "outputId": "7c3bdd61-4618-4d6d-9f6b-6f66bdc6e046"
      },
      "source": [
        "features"
      ],
      "execution_count": 0,
      "outputs": [
        {
          "output_type": "execute_result",
          "data": {
            "text/plain": [
              "array([[  6.   , 148.   ,  72.   , ...,  33.6  ,   0.627,  50.   ],\n",
              "       [  1.   ,  85.   ,  66.   , ...,  26.6  ,   0.351,  31.   ],\n",
              "       [  8.   , 183.   ,  64.   , ...,  23.3  ,   0.672,  32.   ],\n",
              "       ...,\n",
              "       [  5.   , 121.   ,  72.   , ...,  26.2  ,   0.245,  30.   ],\n",
              "       [  1.   , 126.   ,  60.   , ...,  30.1  ,   0.349,  47.   ],\n",
              "       [  1.   ,  93.   ,  70.   , ...,  30.4  ,   0.315,  23.   ]])"
            ]
          },
          "metadata": {
            "tags": []
          },
          "execution_count": 15
        }
      ]
    },
    {
      "cell_type": "code",
      "metadata": {
        "id": "rtQqLXfXjXsI",
        "colab_type": "code",
        "colab": {},
        "outputId": "17a3af2a-d27d-4dc7-96d8-207469ea33c9"
      },
      "source": [
        "from sklearn.ensemble import RandomForestClassifier\n",
        "from sklearn.model_selection import train_test_split\n",
        "\n",
        "X_train,X_test,y_train,y_test = train_test_split(features,labels,test_size=0.30)\n",
        "clf = RandomForestClassifier (n_estimators=1)\n",
        "clf = clf.fit(X_train,y_train)\n",
        "\n",
        "accuracy = clf.score(X_train,y_train)\n",
        "accuracy"
      ],
      "execution_count": 0,
      "outputs": [
        {
          "output_type": "execute_result",
          "data": {
            "text/plain": [
              "0.8603351955307262"
            ]
          },
          "metadata": {
            "tags": []
          },
          "execution_count": 17
        }
      ]
    },
    {
      "cell_type": "code",
      "metadata": {
        "id": "AK4GdtoMjXsM",
        "colab_type": "code",
        "colab": {},
        "outputId": "f19c527f-3f5f-4c48-bf2d-97d1df867d7d"
      },
      "source": [
        "clf = RandomForestClassifier (n_estimators=1)\n",
        "clf = clf.fit(X_train,y_train)\n",
        "\n",
        "accuracy = clf.score(X_test,y_test)\n",
        "accuracy"
      ],
      "execution_count": 0,
      "outputs": [
        {
          "output_type": "execute_result",
          "data": {
            "text/plain": [
              "0.670995670995671"
            ]
          },
          "metadata": {
            "tags": []
          },
          "execution_count": 24
        }
      ]
    },
    {
      "cell_type": "markdown",
      "metadata": {
        "id": "kNzSMM6zjXsT",
        "colab_type": "text"
      },
      "source": [
        "# confusion matrix and classification report"
      ]
    },
    {
      "cell_type": "code",
      "metadata": {
        "id": "mhv6WH95jXsU",
        "colab_type": "code",
        "colab": {},
        "outputId": "a7f663f1-e3ab-4383-9d12-463a6e5e71e5"
      },
      "source": [
        "from sklearn.metrics import classification_report\n",
        "from sklearn.metrics import confusion_matrix\n",
        "ypredict = clf.predict(X_train)\n",
        "print(classification_report(y_train,ypredict))"
      ],
      "execution_count": 0,
      "outputs": [
        {
          "output_type": "stream",
          "text": [
            "              precision    recall  f1-score   support\n",
            "\n",
            "           0       0.93      0.90      0.92       342\n",
            "           1       0.83      0.88      0.86       195\n",
            "\n",
            "    accuracy                           0.89       537\n",
            "   macro avg       0.88      0.89      0.89       537\n",
            "weighted avg       0.90      0.89      0.89       537\n",
            "\n"
          ],
          "name": "stdout"
        }
      ]
    },
    {
      "cell_type": "code",
      "metadata": {
        "id": "d6O1ktP6jXsX",
        "colab_type": "code",
        "colab": {},
        "outputId": "68159295-e9c6-49a4-d45f-ef81c37f0124"
      },
      "source": [
        "print(confusion_matrix(y_train,ypredict))"
      ],
      "execution_count": 0,
      "outputs": [
        {
          "output_type": "stream",
          "text": [
            "[[308  34]\n",
            " [ 23 172]]\n"
          ],
          "name": "stdout"
        }
      ]
    },
    {
      "cell_type": "code",
      "metadata": {
        "id": "yxER2kw2jXsb",
        "colab_type": "code",
        "colab": {},
        "outputId": "0c5acd10-a1a8-4e64-bdc7-a8c0c7a17901"
      },
      "source": [
        "ypredict = clf.predict(X_test)\n",
        "print(classification_report(y_test,ypredict))\n",
        "print(confusion_matrix(y_test,ypredict))"
      ],
      "execution_count": 0,
      "outputs": [
        {
          "output_type": "stream",
          "text": [
            "              precision    recall  f1-score   support\n",
            "\n",
            "           0       0.76      0.76      0.76       158\n",
            "           1       0.48      0.48      0.48        73\n",
            "\n",
            "    accuracy                           0.67       231\n",
            "   macro avg       0.62      0.62      0.62       231\n",
            "weighted avg       0.67      0.67      0.67       231\n",
            "\n",
            "[[120  38]\n",
            " [ 38  35]]\n"
          ],
          "name": "stdout"
        }
      ]
    },
    {
      "cell_type": "markdown",
      "metadata": {
        "id": "OBicVlPfjXsg",
        "colab_type": "text"
      },
      "source": [
        "# data normalization/standardization : standard scaler , Min-Max scaler"
      ]
    },
    {
      "cell_type": "code",
      "metadata": {
        "id": "U6cJoBocjXsi",
        "colab_type": "code",
        "colab": {}
      },
      "source": [
        "from sklearn.preprocessing import StandardScaler\n",
        "scaler = StandardScaler()            # scaler = preprocessing.StandarScaler\n",
        "scaler.fit(X_train)                  # fit only on training data.\n",
        "X_train = scaler.transform(X_train)  \n",
        "X_test = scaler.transform(X_test)    # make same transformation on testing data.\n"
      ],
      "execution_count": 0,
      "outputs": []
    },
    {
      "cell_type": "code",
      "metadata": {
        "id": "PMbh2IxXjXsq",
        "colab_type": "code",
        "colab": {},
        "outputId": "a2e3beb4-af4b-4c2f-f1c2-c8298543681b"
      },
      "source": [
        "clf = RandomForestClassifier (n_estimators=1)\n",
        "clf = clf.fit(X_train,y_train)\n",
        "\n",
        "accuracy = clf.score(X_train,y_train)\n",
        "print(accuracy)\n",
        "clf = RandomForestClassifier (n_estimators=1)\n",
        "clf = clf.fit(X_train,y_train)\n",
        "\n",
        "accuracy = clf.score(X_test,y_test)\n",
        "print(accuracy)\n",
        "ypredict = clf.predict(X_train)\n",
        "print(classification_report(y_train,ypredict))\n",
        "print(confusion_matrix(y_train,ypredict))\n",
        "ypredict = clf.predict(X_test)\n",
        "print(classification_report(y_test,ypredict))\n",
        "print(confusion_matrix(y_test,ypredict))"
      ],
      "execution_count": 0,
      "outputs": [
        {
          "output_type": "stream",
          "text": [
            "0.8733705772811918\n",
            "0.683982683982684\n",
            "              precision    recall  f1-score   support\n",
            "\n",
            "           0       0.89      0.91      0.90       342\n",
            "           1       0.83      0.79      0.81       195\n",
            "\n",
            "    accuracy                           0.87       537\n",
            "   macro avg       0.86      0.85      0.86       537\n",
            "weighted avg       0.87      0.87      0.87       537\n",
            "\n",
            "[[311  31]\n",
            " [ 40 155]]\n",
            "              precision    recall  f1-score   support\n",
            "\n",
            "           0       0.76      0.78      0.77       158\n",
            "           1       0.50      0.48      0.49        73\n",
            "\n",
            "    accuracy                           0.68       231\n",
            "   macro avg       0.63      0.63      0.63       231\n",
            "weighted avg       0.68      0.68      0.68       231\n",
            "\n",
            "[[123  35]\n",
            " [ 38  35]]\n"
          ],
          "name": "stdout"
        }
      ]
    },
    {
      "cell_type": "markdown",
      "metadata": {
        "id": "XM9eKr2xjXst",
        "colab_type": "text"
      },
      "source": [
        "# the end is the standardscaler is not performant for the classifier"
      ]
    },
    {
      "cell_type": "code",
      "metadata": {
        "id": "DaHqg1kkjXsu",
        "colab_type": "code",
        "colab": {}
      },
      "source": [
        "from sklearn.preprocessing import Min.MaxScaler\n",
        "scaler = Min-MaxScaler()            # scaler = preprocessing.Min-MaxScaler.\n",
        "scaler.fit(X_train)                  # fit only on training data.\n",
        "X_train = scaler.transform(X_train)  \n",
        "X_test = scaler.transform(X_test)    # make same transformation on testing data.\n"
      ],
      "execution_count": 0,
      "outputs": []
    },
    {
      "cell_type": "code",
      "metadata": {
        "id": "FD5NXoJPjXs0",
        "colab_type": "code",
        "colab": {},
        "outputId": "2eb416d1-c86e-4035-d426-706790a53358"
      },
      "source": [
        "clf = RandomForestClassifier (n_estimators=1)\n",
        "clf = clf.fit(X_train,y_train)\n",
        "\n",
        "accuracy = clf.score(X_train,y_train)\n",
        "print(accuracy)\n",
        "clf = RandomForestClassifier (n_estimators=1)\n",
        "clf = clf.fit(X_train,y_train)\n",
        "\n",
        "accuracy = clf.score(X_test,y_test)\n",
        "print(accuracy)\n",
        "ypredict = clf.predict(X_train)\n",
        "print(classification_report(y_train,ypredict))\n",
        "print(confusion_matrix(y_train,ypredict))\n",
        "ypredict = clf.predict(X_test)\n",
        "print(classification_report(y_test,ypredict))\n",
        "print(confusion_matrix(y_test,ypredict))"
      ],
      "execution_count": 0,
      "outputs": [
        {
          "output_type": "stream",
          "text": [
            "0.8603351955307262\n",
            "0.6536796536796536\n",
            "              precision    recall  f1-score   support\n",
            "\n",
            "           0       0.91      0.91      0.91       342\n",
            "           1       0.84      0.84      0.84       195\n",
            "\n",
            "    accuracy                           0.88       537\n",
            "   macro avg       0.88      0.88      0.88       537\n",
            "weighted avg       0.88      0.88      0.88       537\n",
            "\n",
            "[[311  31]\n",
            " [ 31 164]]\n",
            "              precision    recall  f1-score   support\n",
            "\n",
            "           0       0.76      0.72      0.74       158\n",
            "           1       0.46      0.52      0.49        73\n",
            "\n",
            "    accuracy                           0.65       231\n",
            "   macro avg       0.61      0.62      0.61       231\n",
            "weighted avg       0.67      0.65      0.66       231\n",
            "\n",
            "[[113  45]\n",
            " [ 35  38]]\n"
          ],
          "name": "stdout"
        }
      ]
    },
    {
      "cell_type": "markdown",
      "metadata": {
        "id": "O_NLrKGUjXs4",
        "colab_type": "text"
      },
      "source": [
        "# the result is the data standardization/normalization is not performant for classifier"
      ]
    },
    {
      "cell_type": "code",
      "metadata": {
        "id": "OlJM95oPjXs5",
        "colab_type": "code",
        "colab": {}
      },
      "source": [
        ""
      ],
      "execution_count": 0,
      "outputs": []
    }
  ]
}